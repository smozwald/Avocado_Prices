{
 "cells": [
  {
   "cell_type": "markdown",
   "metadata": {},
   "source": [
    "# Calculating the Relationship between Agricultural Prices and Vegetation Health"
   ]
  },
  {
   "cell_type": "markdown",
   "metadata": {},
   "source": [
    "The purpose of this notebook is to advance and develop my own skills in terms of data analysis, data visualization, and coding adeptability, by creating and answering a relevant research question. Due to my own interest, this project will focus on predicting the price of avocados based on environmental characteristics. It will involve finding a dataset (from Kaggle) and importing this as the dependent variable. A representative number of agricultural regions will then need to be found (GGE appears to have some stuff that is relevant) and then historical NDVI calculated. Will also need to account for lag effect.\n",
    "\n",
    "Data for historical avocado prices is available from http://www.hassavocadoboard.com/retail/volume-and-price-data. Will need to firstly collect and collate all avocado prices."
   ]
  },
  {
   "cell_type": "code",
   "execution_count": 8,
   "metadata": {},
   "outputs": [],
   "source": [
    "##Create the raw data files for each year of avocado data. No need to run if already done.\n",
    "import urllib\n",
    "\n",
    "startyear = 2004\n",
    "endyear = 2018\n",
    "for i in range(startyear, endyear+1):\n",
    "    import_location = \"Data/Raw/avocado_\" + str(i) + \".xls\"\n",
    "    ##Different download formats based on different files\n",
    "    if i > 2014:\n",
    "        download_location = \"http://www.hassavocadoboard.com/excel/retail_volume_price/conventional/\" + str(i) + \"/Total-U.S./en\"\n",
    "    else:\n",
    "        download_location = \"http://www.hassavocadoboard.com/excel/retail_volume_price/\" + str(i) + \"/en\"\n",
    "    urllib.request.urlretrieve(download_location, import_location)\n",
    "\n",
    "    \n",
    "    "
   ]
  },
  {
   "cell_type": "code",
   "execution_count": 6,
   "metadata": {},
   "outputs": [
    {
     "name": "stdout",
     "output_type": "stream",
     "text": [
      "/hass\n"
     ]
    }
   ],
   "source": [
    "##Check formats of each dataset."
   ]
  },
  {
   "cell_type": "code",
   "execution_count": null,
   "metadata": {},
   "outputs": [],
   "source": [
    "import pandas as pd\n",
    "import numpy as np"
   ]
  }
 ],
 "metadata": {
  "kernelspec": {
   "display_name": "Python 3",
   "language": "python",
   "name": "python3"
  },
  "language_info": {
   "codemirror_mode": {
    "name": "ipython",
    "version": 3
   },
   "file_extension": ".py",
   "mimetype": "text/x-python",
   "name": "python",
   "nbconvert_exporter": "python",
   "pygments_lexer": "ipython3",
   "version": "3.6.5"
  }
 },
 "nbformat": 4,
 "nbformat_minor": 2
}
